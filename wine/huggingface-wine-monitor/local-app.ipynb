{
 "cells": [
  {
   "cell_type": "code",
   "execution_count": 1,
   "outputs": [],
   "source": [
    "import gradio as gr\n",
    "import hopsworks\n",
    "import joblib\n",
    "import pandas as pd"
   ],
   "metadata": {
    "collapsed": false,
    "ExecuteTime": {
     "end_time": "2023-11-18T19:57:37.661285Z",
     "start_time": "2023-11-18T19:57:34.873435Z"
    }
   },
   "id": "ec41261b2961a051"
  },
  {
   "cell_type": "code",
   "execution_count": 2,
   "outputs": [],
   "source": [
    "# Load .env variables in environment\n",
    "\n",
    "%reload_ext dotenv\n",
    "%dotenv"
   ],
   "metadata": {
    "collapsed": false,
    "ExecuteTime": {
     "end_time": "2023-11-18T19:57:37.668605Z",
     "start_time": "2023-11-18T19:57:37.663293Z"
    }
   },
   "id": "e36c680b3cb49c8c"
  },
  {
   "cell_type": "code",
   "execution_count": 3,
   "id": "initial_id",
   "metadata": {
    "collapsed": true,
    "ExecuteTime": {
     "end_time": "2023-11-18T19:57:40.456403Z",
     "start_time": "2023-11-18T19:57:37.669493Z"
    }
   },
   "outputs": [
    {
     "name": "stdout",
     "output_type": "stream",
     "text": [
      "Connected. Call `.close()` to terminate connection gracefully.\n",
      "\n",
      "Logged in to project, explore it here https://c.app.hopsworks.ai:443/p/209044\n",
      "Connected. Call `.close()` to terminate connection gracefully.\n"
     ]
    },
    {
     "name": "stderr",
     "output_type": "stream",
     "text": [
      "DeprecationWarning: The `ipykernel.comm.Comm` class has been deprecated. Please use the `comm` module instead.For creating comms, use the function `from comm import create_comm`.\n"
     ]
    },
    {
     "data": {
      "text/plain": "Downloading: 0.000%|          | 0/18752 elapsed<00:00 remaining<?",
      "application/vnd.jupyter.widget-view+json": {
       "version_major": 2,
       "version_minor": 0,
       "model_id": "32eab91eab2a49cda5f2cb6f025dd912"
      }
     },
     "metadata": {},
     "output_type": "display_data"
    },
    {
     "ename": "RestAPIError",
     "evalue": "Metadata operation error: (url: https://c.app.hopsworks.ai/hopsworks-api/api/project/209044/dataset/Resources%2Fimages%2Fwine_confusion_matrix.png). Server response: \nHTTP code: 400, HTTP reason: Bad Request, body: b'{\"errorCode\":110018,\"errorMsg\":\"Path not found\"}', error code: 110018, error msg: Path not found, user msg: ",
     "output_type": "error",
     "traceback": [
      "\u001B[0;31m---------------------------------------------------------------------------\u001B[0m",
      "\u001B[0;31mRestAPIError\u001B[0m                              Traceback (most recent call last)",
      "Cell \u001B[0;32mIn[3], line 8\u001B[0m\n\u001B[1;32m      6\u001B[0m dataset_api \u001B[38;5;241m=\u001B[39m project\u001B[38;5;241m.\u001B[39mget_dataset_api()\n\u001B[1;32m      7\u001B[0m dataset_api\u001B[38;5;241m.\u001B[39mdownload(\u001B[38;5;124m\"\u001B[39m\u001B[38;5;124mResources/images/wine_df_recent.png\u001B[39m\u001B[38;5;124m\"\u001B[39m)\n\u001B[0;32m----> 8\u001B[0m \u001B[43mdataset_api\u001B[49m\u001B[38;5;241;43m.\u001B[39;49m\u001B[43mdownload\u001B[49m\u001B[43m(\u001B[49m\u001B[38;5;124;43m\"\u001B[39;49m\u001B[38;5;124;43mResources/images/wine_confusion_matrix.png\u001B[39;49m\u001B[38;5;124;43m\"\u001B[39;49m\u001B[43m)\u001B[49m\n\u001B[1;32m     10\u001B[0m monitor_fg \u001B[38;5;241m=\u001B[39m fs\u001B[38;5;241m.\u001B[39mget_or_create_feature_group(name\u001B[38;5;241m=\u001B[39m\u001B[38;5;124m\"\u001B[39m\u001B[38;5;124mwine_predictions\u001B[39m\u001B[38;5;124m\"\u001B[39m, version\u001B[38;5;241m=\u001B[39m\u001B[38;5;241m1\u001B[39m, primary_key\u001B[38;5;241m=\u001B[39m[\u001B[38;5;124m\"\u001B[39m\u001B[38;5;124mdatetime\u001B[39m\u001B[38;5;124m\"\u001B[39m],\n\u001B[1;32m     11\u001B[0m                                             description\u001B[38;5;241m=\u001B[39m\u001B[38;5;124m\"\u001B[39m\u001B[38;5;124mWine quality Prediction/Outcome Monitoring\u001B[39m\u001B[38;5;124m\"\u001B[39m)\n\u001B[1;32m     13\u001B[0m history_df \u001B[38;5;241m=\u001B[39m monitor_fg\u001B[38;5;241m.\u001B[39mread()\n",
      "File \u001B[0;32m~/miniconda3/envs/ID2223-Lab1/lib/python3.9/site-packages/hopsworks/core/dataset_api.py:98\u001B[0m, in \u001B[0;36mDatasetApi.download\u001B[0;34m(self, path, local_path, overwrite)\u001B[0m\n\u001B[1;32m     91\u001B[0m     \u001B[38;5;28;01melse\u001B[39;00m:\n\u001B[1;32m     92\u001B[0m         \u001B[38;5;28;01mraise\u001B[39;00m \u001B[38;5;167;01mIOError\u001B[39;00m(\n\u001B[1;32m     93\u001B[0m             \u001B[38;5;124m\"\u001B[39m\u001B[38;5;132;01m{}\u001B[39;00m\u001B[38;5;124m already exists, set overwrite=True to overwrite it\u001B[39m\u001B[38;5;124m\"\u001B[39m\u001B[38;5;241m.\u001B[39mformat(\n\u001B[1;32m     94\u001B[0m                 local_path\n\u001B[1;32m     95\u001B[0m             )\n\u001B[1;32m     96\u001B[0m         )\n\u001B[0;32m---> 98\u001B[0m file_size \u001B[38;5;241m=\u001B[39m \u001B[38;5;28mint\u001B[39m(\u001B[38;5;28;43mself\u001B[39;49m\u001B[38;5;241;43m.\u001B[39;49m\u001B[43m_get\u001B[49m\u001B[43m(\u001B[49m\u001B[43mpath\u001B[49m\u001B[43m)\u001B[49m[\u001B[38;5;124m\"\u001B[39m\u001B[38;5;124mattributes\u001B[39m\u001B[38;5;124m\"\u001B[39m][\u001B[38;5;124m\"\u001B[39m\u001B[38;5;124msize\u001B[39m\u001B[38;5;124m\"\u001B[39m])\n\u001B[1;32m     99\u001B[0m \u001B[38;5;28;01mwith\u001B[39;00m _client\u001B[38;5;241m.\u001B[39m_send_request(\n\u001B[1;32m    100\u001B[0m     \u001B[38;5;124m\"\u001B[39m\u001B[38;5;124mGET\u001B[39m\u001B[38;5;124m\"\u001B[39m, path_params, query_params\u001B[38;5;241m=\u001B[39mquery_params, stream\u001B[38;5;241m=\u001B[39m\u001B[38;5;28;01mTrue\u001B[39;00m\n\u001B[1;32m    101\u001B[0m ) \u001B[38;5;28;01mas\u001B[39;00m response:\n\u001B[1;32m    102\u001B[0m     \u001B[38;5;28;01mwith\u001B[39;00m \u001B[38;5;28mopen\u001B[39m(local_path, \u001B[38;5;124m\"\u001B[39m\u001B[38;5;124mwb\u001B[39m\u001B[38;5;124m\"\u001B[39m) \u001B[38;5;28;01mas\u001B[39;00m f:\n",
      "File \u001B[0;32m~/miniconda3/envs/ID2223-Lab1/lib/python3.9/site-packages/hopsworks/core/dataset_api.py:244\u001B[0m, in \u001B[0;36mDatasetApi._get\u001B[0;34m(self, path)\u001B[0m\n\u001B[1;32m    242\u001B[0m path_params \u001B[38;5;241m=\u001B[39m [\u001B[38;5;124m\"\u001B[39m\u001B[38;5;124mproject\u001B[39m\u001B[38;5;124m\"\u001B[39m, \u001B[38;5;28mself\u001B[39m\u001B[38;5;241m.\u001B[39m_project_id, \u001B[38;5;124m\"\u001B[39m\u001B[38;5;124mdataset\u001B[39m\u001B[38;5;124m\"\u001B[39m, path]\n\u001B[1;32m    243\u001B[0m headers \u001B[38;5;241m=\u001B[39m {\u001B[38;5;124m\"\u001B[39m\u001B[38;5;124mcontent-type\u001B[39m\u001B[38;5;124m\"\u001B[39m: \u001B[38;5;124m\"\u001B[39m\u001B[38;5;124mapplication/json\u001B[39m\u001B[38;5;124m\"\u001B[39m}\n\u001B[0;32m--> 244\u001B[0m \u001B[38;5;28;01mreturn\u001B[39;00m \u001B[43m_client\u001B[49m\u001B[38;5;241;43m.\u001B[39;49m\u001B[43m_send_request\u001B[49m\u001B[43m(\u001B[49m\u001B[38;5;124;43m\"\u001B[39;49m\u001B[38;5;124;43mGET\u001B[39;49m\u001B[38;5;124;43m\"\u001B[39;49m\u001B[43m,\u001B[49m\u001B[43m \u001B[49m\u001B[43mpath_params\u001B[49m\u001B[43m,\u001B[49m\u001B[43m \u001B[49m\u001B[43mheaders\u001B[49m\u001B[38;5;241;43m=\u001B[39;49m\u001B[43mheaders\u001B[49m\u001B[43m)\u001B[49m\n",
      "File \u001B[0;32m~/miniconda3/envs/ID2223-Lab1/lib/python3.9/site-packages/hopsworks/decorators.py:35\u001B[0m, in \u001B[0;36mconnected.<locals>.if_connected\u001B[0;34m(inst, *args, **kwargs)\u001B[0m\n\u001B[1;32m     33\u001B[0m \u001B[38;5;28;01mif\u001B[39;00m \u001B[38;5;129;01mnot\u001B[39;00m inst\u001B[38;5;241m.\u001B[39m_connected:\n\u001B[1;32m     34\u001B[0m     \u001B[38;5;28;01mraise\u001B[39;00m NoHopsworksConnectionError\n\u001B[0;32m---> 35\u001B[0m \u001B[38;5;28;01mreturn\u001B[39;00m \u001B[43mfn\u001B[49m\u001B[43m(\u001B[49m\u001B[43minst\u001B[49m\u001B[43m,\u001B[49m\u001B[43m \u001B[49m\u001B[38;5;241;43m*\u001B[39;49m\u001B[43margs\u001B[49m\u001B[43m,\u001B[49m\u001B[43m \u001B[49m\u001B[38;5;241;43m*\u001B[39;49m\u001B[38;5;241;43m*\u001B[39;49m\u001B[43mkwargs\u001B[49m\u001B[43m)\u001B[49m\n",
      "File \u001B[0;32m~/miniconda3/envs/ID2223-Lab1/lib/python3.9/site-packages/hopsworks/client/base.py:174\u001B[0m, in \u001B[0;36mClient._send_request\u001B[0;34m(self, method, path_params, query_params, headers, data, stream, files, with_base_path_params)\u001B[0m\n\u001B[1;32m    171\u001B[0m     response \u001B[38;5;241m=\u001B[39m \u001B[38;5;28mself\u001B[39m\u001B[38;5;241m.\u001B[39m_session\u001B[38;5;241m.\u001B[39msend(prepped, verify\u001B[38;5;241m=\u001B[39m\u001B[38;5;28mself\u001B[39m\u001B[38;5;241m.\u001B[39m_verify, stream\u001B[38;5;241m=\u001B[39mstream)\n\u001B[1;32m    173\u001B[0m \u001B[38;5;28;01mif\u001B[39;00m response\u001B[38;5;241m.\u001B[39mstatus_code \u001B[38;5;241m/\u001B[39m\u001B[38;5;241m/\u001B[39m \u001B[38;5;241m100\u001B[39m \u001B[38;5;241m!=\u001B[39m \u001B[38;5;241m2\u001B[39m:\n\u001B[0;32m--> 174\u001B[0m     \u001B[38;5;28;01mraise\u001B[39;00m exceptions\u001B[38;5;241m.\u001B[39mRestAPIError(url, response)\n\u001B[1;32m    176\u001B[0m \u001B[38;5;28;01mif\u001B[39;00m stream:\n\u001B[1;32m    177\u001B[0m     \u001B[38;5;28;01mreturn\u001B[39;00m response\n",
      "\u001B[0;31mRestAPIError\u001B[0m: Metadata operation error: (url: https://c.app.hopsworks.ai/hopsworks-api/api/project/209044/dataset/Resources%2Fimages%2Fwine_confusion_matrix.png). Server response: \nHTTP code: 400, HTTP reason: Bad Request, body: b'{\"errorCode\":110018,\"errorMsg\":\"Path not found\"}', error code: 110018, error msg: Path not found, user msg: "
     ]
    }
   ],
   "source": [
    "labels = ['Low', 'Medium', 'High']\n",
    "\n",
    "project = hopsworks.login()\n",
    "fs = project.get_feature_store()\n",
    "\n",
    "dataset_api = project.get_dataset_api()\n",
    "dataset_api.download(\"Resources/images/wine_df_recent.png\")\n",
    "dataset_api.download(\"Resources/images/wine_confusion_matrix.png\")\n",
    "\n",
    "monitor_fg = fs.get_or_create_feature_group(name=\"wine_predictions\", version=1, primary_key=[\"datetime\"],\n",
    "                                            description=\"Wine quality Prediction/Outcome Monitoring\")\n",
    "\n",
    "history_df = monitor_fg.read()\n",
    "last_prediction = history_df.tail()\n",
    "last_prediction = last_prediction[0] if len(last_prediction) > 0 else None"
   ]
  },
  {
   "cell_type": "code",
   "execution_count": 1,
   "outputs": [
    {
     "ename": "NameError",
     "evalue": "name 'gr' is not defined",
     "output_type": "error",
     "traceback": [
      "\u001B[0;31m---------------------------------------------------------------------------\u001B[0m",
      "\u001B[0;31mNameError\u001B[0m                                 Traceback (most recent call last)",
      "Cell \u001B[0;32mIn[1], line 18\u001B[0m\n\u001B[1;32m     13\u001B[0m     \u001B[38;5;28mprint\u001B[39m(res)\n\u001B[1;32m     15\u001B[0m     \u001B[38;5;28;01mreturn\u001B[39;00m \u001B[38;5;124mf\u001B[39m\u001B[38;5;124m\"\u001B[39m\u001B[38;5;132;01m{\u001B[39;00mlabels[res[\u001B[38;5;241m0\u001B[39m]]\u001B[38;5;132;01m}\u001B[39;00m\u001B[38;5;124m quality\u001B[39m\u001B[38;5;124m\"\u001B[39m\n\u001B[0;32m---> 18\u001B[0m demo \u001B[38;5;241m=\u001B[39m \u001B[43mgr\u001B[49m\u001B[38;5;241m.\u001B[39mInterface(\n\u001B[1;32m     19\u001B[0m     fn\u001B[38;5;241m=\u001B[39mwine,\n\u001B[1;32m     20\u001B[0m     title\u001B[38;5;241m=\u001B[39m\u001B[38;5;124m\"\u001B[39m\u001B[38;5;124mWine Quality Predictive Analytics\u001B[39m\u001B[38;5;124m\"\u001B[39m,\n\u001B[1;32m     21\u001B[0m     description\u001B[38;5;241m=\u001B[39m\u001B[38;5;124m\"\u001B[39m\u001B[38;5;124mExperiment with wine characteristics to get the wine quality (low, medium, high)\u001B[39m\u001B[38;5;124m\"\u001B[39m,\n\u001B[1;32m     22\u001B[0m     allow_flagging\u001B[38;5;241m=\u001B[39m\u001B[38;5;124m\"\u001B[39m\u001B[38;5;124mnever\u001B[39m\u001B[38;5;124m\"\u001B[39m,\n\u001B[1;32m     23\u001B[0m     inputs\u001B[38;5;241m=\u001B[39m[\n\u001B[1;32m     24\u001B[0m         gr\u001B[38;5;241m.\u001B[39mcomponents\u001B[38;5;241m.\u001B[39mNumber(label\u001B[38;5;241m=\u001B[39m\u001B[38;5;124m'\u001B[39m\u001B[38;5;124mfixed acidity\u001B[39m\u001B[38;5;124m'\u001B[39m),\n\u001B[1;32m     25\u001B[0m         gr\u001B[38;5;241m.\u001B[39mcomponents\u001B[38;5;241m.\u001B[39mNumber(label\u001B[38;5;241m=\u001B[39m\u001B[38;5;124m'\u001B[39m\u001B[38;5;124mvolatile acidity\u001B[39m\u001B[38;5;124m'\u001B[39m),\n\u001B[1;32m     26\u001B[0m         gr\u001B[38;5;241m.\u001B[39mcomponents\u001B[38;5;241m.\u001B[39mNumber(label\u001B[38;5;241m=\u001B[39m\u001B[38;5;124m'\u001B[39m\u001B[38;5;124mcitric acid\u001B[39m\u001B[38;5;124m'\u001B[39m),\n\u001B[1;32m     27\u001B[0m         gr\u001B[38;5;241m.\u001B[39mcomponents\u001B[38;5;241m.\u001B[39mNumber(label\u001B[38;5;241m=\u001B[39m\u001B[38;5;124m'\u001B[39m\u001B[38;5;124mresidual sugar\u001B[39m\u001B[38;5;124m'\u001B[39m),\n\u001B[1;32m     28\u001B[0m         gr\u001B[38;5;241m.\u001B[39mcomponents\u001B[38;5;241m.\u001B[39mNumber(label\u001B[38;5;241m=\u001B[39m\u001B[38;5;124m'\u001B[39m\u001B[38;5;124mchlorides\u001B[39m\u001B[38;5;124m'\u001B[39m),\n\u001B[1;32m     29\u001B[0m         gr\u001B[38;5;241m.\u001B[39mcomponents\u001B[38;5;241m.\u001B[39mNumber(label\u001B[38;5;241m=\u001B[39m\u001B[38;5;124m'\u001B[39m\u001B[38;5;124mfree sulfur dioxide\u001B[39m\u001B[38;5;124m'\u001B[39m),\n\u001B[1;32m     30\u001B[0m         gr\u001B[38;5;241m.\u001B[39mcomponents\u001B[38;5;241m.\u001B[39mNumber(label\u001B[38;5;241m=\u001B[39m\u001B[38;5;124m'\u001B[39m\u001B[38;5;124mtotal sulfur dioxide\u001B[39m\u001B[38;5;124m'\u001B[39m),\n\u001B[1;32m     31\u001B[0m         gr\u001B[38;5;241m.\u001B[39mcomponents\u001B[38;5;241m.\u001B[39mNumber(label\u001B[38;5;241m=\u001B[39m\u001B[38;5;124m'\u001B[39m\u001B[38;5;124mdensity\u001B[39m\u001B[38;5;124m'\u001B[39m),\n\u001B[1;32m     32\u001B[0m         gr\u001B[38;5;241m.\u001B[39mcomponents\u001B[38;5;241m.\u001B[39mNumber(label\u001B[38;5;241m=\u001B[39m\u001B[38;5;124m'\u001B[39m\u001B[38;5;124mpH\u001B[39m\u001B[38;5;124m'\u001B[39m),\n\u001B[1;32m     33\u001B[0m         gr\u001B[38;5;241m.\u001B[39mcomponents\u001B[38;5;241m.\u001B[39mNumber(label\u001B[38;5;241m=\u001B[39m\u001B[38;5;124m'\u001B[39m\u001B[38;5;124msulphates\u001B[39m\u001B[38;5;124m'\u001B[39m),\n\u001B[1;32m     34\u001B[0m         gr\u001B[38;5;241m.\u001B[39mcomponents\u001B[38;5;241m.\u001B[39mNumber(label\u001B[38;5;241m=\u001B[39m\u001B[38;5;124m'\u001B[39m\u001B[38;5;124malcohol\u001B[39m\u001B[38;5;124m'\u001B[39m),\n\u001B[1;32m     35\u001B[0m         gr\u001B[38;5;241m.\u001B[39mcomponents\u001B[38;5;241m.\u001B[39mCheckbox(label\u001B[38;5;241m=\u001B[39m\u001B[38;5;124m'\u001B[39m\u001B[38;5;124mis white\u001B[39m\u001B[38;5;124m'\u001B[39m),\n\u001B[1;32m     36\u001B[0m     ],\n\u001B[1;32m     37\u001B[0m     outputs\u001B[38;5;241m=\u001B[39mgr\u001B[38;5;241m.\u001B[39mText())\n\u001B[1;32m     39\u001B[0m demo\u001B[38;5;241m.\u001B[39mlaunch(debug\u001B[38;5;241m=\u001B[39m\u001B[38;5;28;01mTrue\u001B[39;00m)\n",
      "\u001B[0;31mNameError\u001B[0m: name 'gr' is not defined"
     ]
    }
   ],
   "source": [
    "with gr.Blocks() as demo:\n",
    "    with gr.Row():\n",
    "        with gr.Column():\n",
    "            gr.Label(\"Today's Predicted\")\n",
    "            gr.Label(f\"{labels[last_prediction['prediction']] + ' quality' if last_prediction is not None else 'No predictions yet'}\")\n",
    "        with gr.Column():\n",
    "            gr.Label(\"Today's Actual quality\")\n",
    "            gr.Label(f\"{labels[last_prediction['label']] + ' quality' if last_prediction is not None else 'No predictions yet'}\")\n",
    "    with gr.Row():\n",
    "        with gr.Column():\n",
    "            gr.Label(\"Recent Prediction History\")\n",
    "            gr.Image(\"wine_df_recent.png\", elem_id=\"recent-predictions\")\n",
    "        with gr.Column():\n",
    "            gr.Label(\"Confusion Maxtrix with Historical Prediction Performance\")\n",
    "            gr.Image(\"wine_confusion_matrix.png\", elem_id=\"confusion-matrix\")\n",
    "\n",
    "demo.launch()"
   ],
   "metadata": {
    "collapsed": false,
    "ExecuteTime": {
     "end_time": "2023-11-18T15:18:44.209114Z",
     "start_time": "2023-11-18T15:18:43.957333Z"
    }
   },
   "id": "420d41c59f6665be"
  },
  {
   "cell_type": "code",
   "execution_count": null,
   "outputs": [],
   "source": [],
   "metadata": {
    "collapsed": false
   },
   "id": "3c15f903e05ac65b"
  }
 ],
 "metadata": {
  "kernelspec": {
   "display_name": "Python 3",
   "language": "python",
   "name": "python3"
  },
  "language_info": {
   "codemirror_mode": {
    "name": "ipython",
    "version": 2
   },
   "file_extension": ".py",
   "mimetype": "text/x-python",
   "name": "python",
   "nbconvert_exporter": "python",
   "pygments_lexer": "ipython2",
   "version": "2.7.6"
  }
 },
 "nbformat": 4,
 "nbformat_minor": 5
}
