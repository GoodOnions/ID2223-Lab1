{
 "cells": [
  {
   "cell_type": "code",
   "execution_count": 2,
   "outputs": [],
   "source": [
    "# Load .env variables in environment\n",
    "\n",
    "%reload_ext dotenv\n",
    "%dotenv"
   ],
   "metadata": {
    "collapsed": false,
    "ExecuteTime": {
     "end_time": "2023-11-16T09:28:47.238984Z",
     "start_time": "2023-11-16T09:28:47.234395Z"
    }
   },
   "id": "142ae372691d57c5"
  },
  {
   "cell_type": "code",
   "execution_count": 10,
   "id": "initial_id",
   "metadata": {
    "collapsed": true,
    "ExecuteTime": {
     "end_time": "2023-11-16T09:32:22.910918Z",
     "start_time": "2023-11-16T09:32:22.903445Z"
    }
   },
   "outputs": [],
   "source": [
    "import hopsworks\n",
    "import pandas as pd\n",
    "from sklearn.pipeline import Pipeline\n",
    "from sklearn.tree import DecisionTreeClassifier\n",
    "from sklearn.model_selection import GridSearchCV\n",
    "from sklearn.preprocessing import StandardScaler\n",
    "from sklearn.metrics import accuracy_score\n",
    "from sklearn.metrics import confusion_matrix\n",
    "from sklearn.metrics import classification_report\n",
    "import seaborn as sns\n",
    "from matplotlib import pyplot\n",
    "from hsml.schema import Schema\n",
    "from hsml.model_schema import ModelSchema\n",
    "import joblib\n",
    "import os"
   ]
  },
  {
   "cell_type": "code",
   "execution_count": 4,
   "outputs": [
    {
     "name": "stdout",
     "output_type": "stream",
     "text": [
      "Connected. Call `.close()` to terminate connection gracefully.\n",
      "\n",
      "Logged in to project, explore it here https://c.app.hopsworks.ai:443/p/209044\n",
      "Connected. Call `.close()` to terminate connection gracefully.\n"
     ]
    }
   ],
   "source": [
    "# You have to set the environment variable 'HOPSWORKS_API_KEY' for login to succeed\n",
    "project = hopsworks.login()\n",
    "fs = project.get_feature_store()"
   ],
   "metadata": {
    "collapsed": false,
    "ExecuteTime": {
     "end_time": "2023-11-16T09:28:50.921723Z",
     "start_time": "2023-11-16T09:28:49.231275Z"
    }
   },
   "id": "afe60c9d78d227fa"
  },
  {
   "cell_type": "code",
   "execution_count": 5,
   "outputs": [
    {
     "name": "stdout",
     "output_type": "stream",
     "text": [
      "Feature view created successfully, explore it at \n",
      "https://c.app.hopsworks.ai:443/p/209044/fs/208963/fv/wine/version/1\n"
     ]
    }
   ],
   "source": [
    "# The feature view is the input set of features for your model. The features can come from different feature groups.    \n",
    "# You can select features from different feature groups and join them together to create a feature view\n",
    "wine_fg = fs.get_feature_group(name=\"wine\", version=2)\n",
    "query = wine_fg.select_all()\n",
    "feature_view = fs.get_or_create_feature_view(name=\"wine\",\n",
    "                                  version=1,\n",
    "                                  description=\"Read from Wine dataset\",\n",
    "                                  labels=[\"quality\"],\n",
    "                                  query=query)"
   ],
   "metadata": {
    "collapsed": false,
    "ExecuteTime": {
     "end_time": "2023-11-16T09:28:54.003393Z",
     "start_time": "2023-11-16T09:28:52.013209Z"
    }
   },
   "id": "9fbfeed142acb1d5"
  },
  {
   "cell_type": "code",
   "execution_count": 6,
   "outputs": [
    {
     "name": "stdout",
     "output_type": "stream",
     "text": [
      "Finished: Reading data from Hopsworks, using ArrowFlight (1.53s) \n"
     ]
    },
    {
     "name": "stderr",
     "output_type": "stream",
     "text": [
      "VersionWarning: Incremented version to `1`.\n"
     ]
    }
   ],
   "source": [
    "# You can read training data, randomly split into train/test sets of features (X) and labels (y)        \n",
    "X_train, X_test, y_train, y_test = feature_view.train_test_split(0.2)"
   ],
   "metadata": {
    "collapsed": false,
    "ExecuteTime": {
     "end_time": "2023-11-16T09:29:05.747632Z",
     "start_time": "2023-11-16T09:28:59.998049Z"
    }
   },
   "id": "7b0ef1738e69d95a"
  },
  {
   "cell_type": "code",
   "execution_count": 7,
   "outputs": [
    {
     "data": {
      "text/plain": "      type  volatile_acidity  chlorides  density    ph  sulphates  alcohol\n1        0              0.33      0.047  0.99760  3.09       0.46      8.9\n2        0              0.24      0.037  0.98914  2.96       0.36     12.5\n3        1              0.71      0.080  0.99720  3.47       0.55      9.4\n4        0              0.19      0.056  0.99950  3.20       0.44      8.8\n5        0              0.34      0.035  0.99460  3.15       0.49      9.7\n...    ...               ...        ...      ...   ...        ...      ...\n5256     0              0.16      0.033  0.99410  3.20       0.39     10.3\n5257     0              0.38      0.035  0.98916  3.04       0.37     12.5\n5258     1              0.62      0.084  0.99780  3.34       0.53      9.5\n5259     1              0.71      0.092  0.99635  3.38       0.58     10.0\n5260     0              0.26      0.048  0.99930  3.35       0.44      9.4\n\n[4208 rows x 7 columns]",
      "text/html": "<div>\n<style scoped>\n    .dataframe tbody tr th:only-of-type {\n        vertical-align: middle;\n    }\n\n    .dataframe tbody tr th {\n        vertical-align: top;\n    }\n\n    .dataframe thead th {\n        text-align: right;\n    }\n</style>\n<table border=\"1\" class=\"dataframe\">\n  <thead>\n    <tr style=\"text-align: right;\">\n      <th></th>\n      <th>type</th>\n      <th>volatile_acidity</th>\n      <th>chlorides</th>\n      <th>density</th>\n      <th>ph</th>\n      <th>sulphates</th>\n      <th>alcohol</th>\n    </tr>\n  </thead>\n  <tbody>\n    <tr>\n      <th>1</th>\n      <td>0</td>\n      <td>0.33</td>\n      <td>0.047</td>\n      <td>0.99760</td>\n      <td>3.09</td>\n      <td>0.46</td>\n      <td>8.9</td>\n    </tr>\n    <tr>\n      <th>2</th>\n      <td>0</td>\n      <td>0.24</td>\n      <td>0.037</td>\n      <td>0.98914</td>\n      <td>2.96</td>\n      <td>0.36</td>\n      <td>12.5</td>\n    </tr>\n    <tr>\n      <th>3</th>\n      <td>1</td>\n      <td>0.71</td>\n      <td>0.080</td>\n      <td>0.99720</td>\n      <td>3.47</td>\n      <td>0.55</td>\n      <td>9.4</td>\n    </tr>\n    <tr>\n      <th>4</th>\n      <td>0</td>\n      <td>0.19</td>\n      <td>0.056</td>\n      <td>0.99950</td>\n      <td>3.20</td>\n      <td>0.44</td>\n      <td>8.8</td>\n    </tr>\n    <tr>\n      <th>5</th>\n      <td>0</td>\n      <td>0.34</td>\n      <td>0.035</td>\n      <td>0.99460</td>\n      <td>3.15</td>\n      <td>0.49</td>\n      <td>9.7</td>\n    </tr>\n    <tr>\n      <th>...</th>\n      <td>...</td>\n      <td>...</td>\n      <td>...</td>\n      <td>...</td>\n      <td>...</td>\n      <td>...</td>\n      <td>...</td>\n    </tr>\n    <tr>\n      <th>5256</th>\n      <td>0</td>\n      <td>0.16</td>\n      <td>0.033</td>\n      <td>0.99410</td>\n      <td>3.20</td>\n      <td>0.39</td>\n      <td>10.3</td>\n    </tr>\n    <tr>\n      <th>5257</th>\n      <td>0</td>\n      <td>0.38</td>\n      <td>0.035</td>\n      <td>0.98916</td>\n      <td>3.04</td>\n      <td>0.37</td>\n      <td>12.5</td>\n    </tr>\n    <tr>\n      <th>5258</th>\n      <td>1</td>\n      <td>0.62</td>\n      <td>0.084</td>\n      <td>0.99780</td>\n      <td>3.34</td>\n      <td>0.53</td>\n      <td>9.5</td>\n    </tr>\n    <tr>\n      <th>5259</th>\n      <td>1</td>\n      <td>0.71</td>\n      <td>0.092</td>\n      <td>0.99635</td>\n      <td>3.38</td>\n      <td>0.58</td>\n      <td>10.0</td>\n    </tr>\n    <tr>\n      <th>5260</th>\n      <td>0</td>\n      <td>0.26</td>\n      <td>0.048</td>\n      <td>0.99930</td>\n      <td>3.35</td>\n      <td>0.44</td>\n      <td>9.4</td>\n    </tr>\n  </tbody>\n</table>\n<p>4208 rows × 7 columns</p>\n</div>"
     },
     "execution_count": 7,
     "metadata": {},
     "output_type": "execute_result"
    }
   ],
   "source": [
    "X_train"
   ],
   "metadata": {
    "collapsed": false,
    "ExecuteTime": {
     "end_time": "2023-11-16T09:29:07.766324Z",
     "start_time": "2023-11-16T09:29:07.758616Z"
    }
   },
   "id": "a22375b4dad504eb"
  },
  {
   "cell_type": "code",
   "execution_count": 11,
   "outputs": [
    {
     "data": {
      "text/plain": "      quality\n1           5\n2           6\n3           5\n4           6\n5           5\n...       ...\n5256        4\n5257        6\n5258        5\n5259        6\n5260        5\n\n[4208 rows x 1 columns]",
      "text/html": "<div>\n<style scoped>\n    .dataframe tbody tr th:only-of-type {\n        vertical-align: middle;\n    }\n\n    .dataframe tbody tr th {\n        vertical-align: top;\n    }\n\n    .dataframe thead th {\n        text-align: right;\n    }\n</style>\n<table border=\"1\" class=\"dataframe\">\n  <thead>\n    <tr style=\"text-align: right;\">\n      <th></th>\n      <th>quality</th>\n    </tr>\n  </thead>\n  <tbody>\n    <tr>\n      <th>1</th>\n      <td>5</td>\n    </tr>\n    <tr>\n      <th>2</th>\n      <td>6</td>\n    </tr>\n    <tr>\n      <th>3</th>\n      <td>5</td>\n    </tr>\n    <tr>\n      <th>4</th>\n      <td>6</td>\n    </tr>\n    <tr>\n      <th>5</th>\n      <td>5</td>\n    </tr>\n    <tr>\n      <th>...</th>\n      <td>...</td>\n    </tr>\n    <tr>\n      <th>5256</th>\n      <td>4</td>\n    </tr>\n    <tr>\n      <th>5257</th>\n      <td>6</td>\n    </tr>\n    <tr>\n      <th>5258</th>\n      <td>5</td>\n    </tr>\n    <tr>\n      <th>5259</th>\n      <td>6</td>\n    </tr>\n    <tr>\n      <th>5260</th>\n      <td>5</td>\n    </tr>\n  </tbody>\n</table>\n<p>4208 rows × 1 columns</p>\n</div>"
     },
     "execution_count": 11,
     "metadata": {},
     "output_type": "execute_result"
    }
   ],
   "source": [
    "y_train"
   ],
   "metadata": {
    "collapsed": false,
    "ExecuteTime": {
     "end_time": "2023-11-16T09:33:20.636126Z",
     "start_time": "2023-11-16T09:33:20.629803Z"
    }
   },
   "id": "8f56013a75865de9"
  },
  {
   "cell_type": "markdown",
   "source": [
    "## Model training "
   ],
   "metadata": {
    "collapsed": false
   },
   "id": "b481cde3f23de36f"
  },
  {
   "cell_type": "code",
   "execution_count": 12,
   "outputs": [
    {
     "name": "stdout",
     "output_type": "stream",
     "text": [
      "Fitting 5 folds for each of 48 candidates, totalling 240 fits\n"
     ]
    },
    {
     "name": "stderr",
     "output_type": "stream",
     "text": [
      "UserWarning: The least populated class in y has only 4 members, which is less than n_splits=5.\n"
     ]
    },
    {
     "data": {
      "text/plain": "Pipeline(steps=[('scl', StandardScaler()),\n                ('gs',\n                 GridSearchCV(cv=5,\n                              estimator=Pipeline(steps=[('clf',\n                                                         DecisionTreeClassifier(random_state=101))]),\n                              n_jobs=-1,\n                              param_grid=[{'clf__class_weight': ['balanced',\n                                                                 None],\n                                           'clf__criterion': ['gini',\n                                                              'entropy'],\n                                           'clf__max_depth': [8, 9, 10, 11],\n                                           'clf__min_samples_leaf': [2, 3, 5],\n                                           'clf__splitter': ['best']}],\n                              scoring='accuracy', verbose=1))])",
      "text/html": "<style>#sk-container-id-1 {color: black;background-color: white;}#sk-container-id-1 pre{padding: 0;}#sk-container-id-1 div.sk-toggleable {background-color: white;}#sk-container-id-1 label.sk-toggleable__label {cursor: pointer;display: block;width: 100%;margin-bottom: 0;padding: 0.3em;box-sizing: border-box;text-align: center;}#sk-container-id-1 label.sk-toggleable__label-arrow:before {content: \"▸\";float: left;margin-right: 0.25em;color: #696969;}#sk-container-id-1 label.sk-toggleable__label-arrow:hover:before {color: black;}#sk-container-id-1 div.sk-estimator:hover label.sk-toggleable__label-arrow:before {color: black;}#sk-container-id-1 div.sk-toggleable__content {max-height: 0;max-width: 0;overflow: hidden;text-align: left;background-color: #f0f8ff;}#sk-container-id-1 div.sk-toggleable__content pre {margin: 0.2em;color: black;border-radius: 0.25em;background-color: #f0f8ff;}#sk-container-id-1 input.sk-toggleable__control:checked~div.sk-toggleable__content {max-height: 200px;max-width: 100%;overflow: auto;}#sk-container-id-1 input.sk-toggleable__control:checked~label.sk-toggleable__label-arrow:before {content: \"▾\";}#sk-container-id-1 div.sk-estimator input.sk-toggleable__control:checked~label.sk-toggleable__label {background-color: #d4ebff;}#sk-container-id-1 div.sk-label input.sk-toggleable__control:checked~label.sk-toggleable__label {background-color: #d4ebff;}#sk-container-id-1 input.sk-hidden--visually {border: 0;clip: rect(1px 1px 1px 1px);clip: rect(1px, 1px, 1px, 1px);height: 1px;margin: -1px;overflow: hidden;padding: 0;position: absolute;width: 1px;}#sk-container-id-1 div.sk-estimator {font-family: monospace;background-color: #f0f8ff;border: 1px dotted black;border-radius: 0.25em;box-sizing: border-box;margin-bottom: 0.5em;}#sk-container-id-1 div.sk-estimator:hover {background-color: #d4ebff;}#sk-container-id-1 div.sk-parallel-item::after {content: \"\";width: 100%;border-bottom: 1px solid gray;flex-grow: 1;}#sk-container-id-1 div.sk-label:hover label.sk-toggleable__label {background-color: #d4ebff;}#sk-container-id-1 div.sk-serial::before {content: \"\";position: absolute;border-left: 1px solid gray;box-sizing: border-box;top: 0;bottom: 0;left: 50%;z-index: 0;}#sk-container-id-1 div.sk-serial {display: flex;flex-direction: column;align-items: center;background-color: white;padding-right: 0.2em;padding-left: 0.2em;position: relative;}#sk-container-id-1 div.sk-item {position: relative;z-index: 1;}#sk-container-id-1 div.sk-parallel {display: flex;align-items: stretch;justify-content: center;background-color: white;position: relative;}#sk-container-id-1 div.sk-item::before, #sk-container-id-1 div.sk-parallel-item::before {content: \"\";position: absolute;border-left: 1px solid gray;box-sizing: border-box;top: 0;bottom: 0;left: 50%;z-index: -1;}#sk-container-id-1 div.sk-parallel-item {display: flex;flex-direction: column;z-index: 1;position: relative;background-color: white;}#sk-container-id-1 div.sk-parallel-item:first-child::after {align-self: flex-end;width: 50%;}#sk-container-id-1 div.sk-parallel-item:last-child::after {align-self: flex-start;width: 50%;}#sk-container-id-1 div.sk-parallel-item:only-child::after {width: 0;}#sk-container-id-1 div.sk-dashed-wrapped {border: 1px dashed gray;margin: 0 0.4em 0.5em 0.4em;box-sizing: border-box;padding-bottom: 0.4em;background-color: white;}#sk-container-id-1 div.sk-label label {font-family: monospace;font-weight: bold;display: inline-block;line-height: 1.2em;}#sk-container-id-1 div.sk-label-container {text-align: center;}#sk-container-id-1 div.sk-container {/* jupyter's `normalize.less` sets `[hidden] { display: none; }` but bootstrap.min.css set `[hidden] { display: none !important; }` so we also need the `!important` here to be able to override the default hidden behavior on the sphinx rendered scikit-learn.org. See: https://github.com/scikit-learn/scikit-learn/issues/21755 */display: inline-block !important;position: relative;}#sk-container-id-1 div.sk-text-repr-fallback {display: none;}</style><div id=\"sk-container-id-1\" class=\"sk-top-container\"><div class=\"sk-text-repr-fallback\"><pre>Pipeline(steps=[(&#x27;scl&#x27;, StandardScaler()),\n                (&#x27;gs&#x27;,\n                 GridSearchCV(cv=5,\n                              estimator=Pipeline(steps=[(&#x27;clf&#x27;,\n                                                         DecisionTreeClassifier(random_state=101))]),\n                              n_jobs=-1,\n                              param_grid=[{&#x27;clf__class_weight&#x27;: [&#x27;balanced&#x27;,\n                                                                 None],\n                                           &#x27;clf__criterion&#x27;: [&#x27;gini&#x27;,\n                                                              &#x27;entropy&#x27;],\n                                           &#x27;clf__max_depth&#x27;: [8, 9, 10, 11],\n                                           &#x27;clf__min_samples_leaf&#x27;: [2, 3, 5],\n                                           &#x27;clf__splitter&#x27;: [&#x27;best&#x27;]}],\n                              scoring=&#x27;accuracy&#x27;, verbose=1))])</pre><b>In a Jupyter environment, please rerun this cell to show the HTML representation or trust the notebook. <br />On GitHub, the HTML representation is unable to render, please try loading this page with nbviewer.org.</b></div><div class=\"sk-container\" hidden><div class=\"sk-item sk-dashed-wrapped\"><div class=\"sk-label-container\"><div class=\"sk-label sk-toggleable\"><input class=\"sk-toggleable__control sk-hidden--visually\" id=\"sk-estimator-id-1\" type=\"checkbox\" ><label for=\"sk-estimator-id-1\" class=\"sk-toggleable__label sk-toggleable__label-arrow\">Pipeline</label><div class=\"sk-toggleable__content\"><pre>Pipeline(steps=[(&#x27;scl&#x27;, StandardScaler()),\n                (&#x27;gs&#x27;,\n                 GridSearchCV(cv=5,\n                              estimator=Pipeline(steps=[(&#x27;clf&#x27;,\n                                                         DecisionTreeClassifier(random_state=101))]),\n                              n_jobs=-1,\n                              param_grid=[{&#x27;clf__class_weight&#x27;: [&#x27;balanced&#x27;,\n                                                                 None],\n                                           &#x27;clf__criterion&#x27;: [&#x27;gini&#x27;,\n                                                              &#x27;entropy&#x27;],\n                                           &#x27;clf__max_depth&#x27;: [8, 9, 10, 11],\n                                           &#x27;clf__min_samples_leaf&#x27;: [2, 3, 5],\n                                           &#x27;clf__splitter&#x27;: [&#x27;best&#x27;]}],\n                              scoring=&#x27;accuracy&#x27;, verbose=1))])</pre></div></div></div><div class=\"sk-serial\"><div class=\"sk-item\"><div class=\"sk-estimator sk-toggleable\"><input class=\"sk-toggleable__control sk-hidden--visually\" id=\"sk-estimator-id-2\" type=\"checkbox\" ><label for=\"sk-estimator-id-2\" class=\"sk-toggleable__label sk-toggleable__label-arrow\">StandardScaler</label><div class=\"sk-toggleable__content\"><pre>StandardScaler()</pre></div></div></div><div class=\"sk-item sk-dashed-wrapped\"><div class=\"sk-label-container\"><div class=\"sk-label sk-toggleable\"><input class=\"sk-toggleable__control sk-hidden--visually\" id=\"sk-estimator-id-3\" type=\"checkbox\" ><label for=\"sk-estimator-id-3\" class=\"sk-toggleable__label sk-toggleable__label-arrow\">gs: GridSearchCV</label><div class=\"sk-toggleable__content\"><pre>GridSearchCV(cv=5,\n             estimator=Pipeline(steps=[(&#x27;clf&#x27;,\n                                        DecisionTreeClassifier(random_state=101))]),\n             n_jobs=-1,\n             param_grid=[{&#x27;clf__class_weight&#x27;: [&#x27;balanced&#x27;, None],\n                          &#x27;clf__criterion&#x27;: [&#x27;gini&#x27;, &#x27;entropy&#x27;],\n                          &#x27;clf__max_depth&#x27;: [8, 9, 10, 11],\n                          &#x27;clf__min_samples_leaf&#x27;: [2, 3, 5],\n                          &#x27;clf__splitter&#x27;: [&#x27;best&#x27;]}],\n             scoring=&#x27;accuracy&#x27;, verbose=1)</pre></div></div></div><div class=\"sk-parallel\"><div class=\"sk-parallel-item\"><div class=\"sk-item\"><div class=\"sk-label-container\"><div class=\"sk-label sk-toggleable\"><input class=\"sk-toggleable__control sk-hidden--visually\" id=\"sk-estimator-id-4\" type=\"checkbox\" ><label for=\"sk-estimator-id-4\" class=\"sk-toggleable__label sk-toggleable__label-arrow\">estimator: Pipeline</label><div class=\"sk-toggleable__content\"><pre>Pipeline(steps=[(&#x27;clf&#x27;, DecisionTreeClassifier(random_state=101))])</pre></div></div></div><div class=\"sk-serial\"><div class=\"sk-item\"><div class=\"sk-serial\"><div class=\"sk-item\"><div class=\"sk-estimator sk-toggleable\"><input class=\"sk-toggleable__control sk-hidden--visually\" id=\"sk-estimator-id-5\" type=\"checkbox\" ><label for=\"sk-estimator-id-5\" class=\"sk-toggleable__label sk-toggleable__label-arrow\">DecisionTreeClassifier</label><div class=\"sk-toggleable__content\"><pre>DecisionTreeClassifier(random_state=101)</pre></div></div></div></div></div></div></div></div></div></div></div></div></div></div>"
     },
     "execution_count": 12,
     "metadata": {},
     "output_type": "execute_result"
    }
   ],
   "source": [
    "clf = Pipeline([\n",
    "        ('clf', DecisionTreeClassifier(random_state=101))])  \n",
    "\n",
    "# a list of dictionaries to specify the parameters that we'd want to tune\n",
    "criterion = ['gini', 'entropy']\n",
    "splitter = ['best']\n",
    "max_depth = [8, 9, 10, 11] # [15, 20, 25]\n",
    "min_samples_leaf = [2, 3, 5]\n",
    "class_weight = ['balanced', None] \n",
    "\n",
    "param_grid =\\\n",
    "    [{ 'clf__class_weight': class_weight\n",
    "      ,'clf__criterion': criterion\n",
    "      ,'clf__splitter': splitter\n",
    "      ,'clf__max_depth': max_depth\n",
    "      ,'clf__min_samples_leaf': min_samples_leaf\n",
    "}]\n",
    "\n",
    "gs = GridSearchCV(estimator=clf, param_grid=param_grid, scoring='accuracy', cv=5, verbose=1, n_jobs=-1)\n",
    "DT = Pipeline([\n",
    "        ('scl', StandardScaler()),\n",
    "        ('gs', gs)\n",
    " ]) \n",
    "\n",
    "DT.fit(X_train,y_train)"
   ],
   "metadata": {
    "collapsed": false,
    "ExecuteTime": {
     "end_time": "2023-11-16T09:33:30.348778Z",
     "start_time": "2023-11-16T09:33:28.898471Z"
    }
   },
   "id": "8732004b0b09bf3e"
  },
  {
   "cell_type": "code",
   "execution_count": 17,
   "outputs": [
    {
     "name": "stderr",
     "output_type": "stream",
     "text": [
      "UndefinedMetricWarning: Precision and F-score are ill-defined and being set to 0.0 in labels with no predicted samples. Use `zero_division` parameter to control this behavior.\n",
      "UndefinedMetricWarning: Precision and F-score are ill-defined and being set to 0.0 in labels with no predicted samples. Use `zero_division` parameter to control this behavior.\n",
      "UndefinedMetricWarning: Precision and F-score are ill-defined and being set to 0.0 in labels with no predicted samples. Use `zero_division` parameter to control this behavior.\n"
     ]
    }
   ],
   "source": [
    "# Evaluate model performance using the features from the test set (X_test)\n",
    "y_pred = DT.predict(X_test)\n",
    "\n",
    "# Compare predictions (y_pred) with the labels in the test set (y_test)\n",
    "metrics = classification_report(y_test, y_pred, output_dict=True)\n",
    "results = confusion_matrix(y_test, y_pred)"
   ],
   "metadata": {
    "collapsed": false,
    "ExecuteTime": {
     "end_time": "2023-11-16T09:35:28.822224Z",
     "start_time": "2023-11-16T09:35:28.805631Z"
    }
   },
   "id": "e4eacd28d769fe6"
  },
  {
   "cell_type": "code",
   "execution_count": 18,
   "outputs": [
    {
     "name": "stdout",
     "output_type": "stream",
     "text": [
      "{'3': {'precision': 0.0, 'recall': 0.0, 'f1-score': 0.0, 'support': 6}, '4': {'precision': 0.05, 'recall': 0.02040816326530612, 'f1-score': 0.02898550724637681, 'support': 49}, '5': {'precision': 0.5426356589147286, 'recall': 0.621301775147929, 'f1-score': 0.5793103448275863, 'support': 338}, '6': {'precision': 0.52, 'recall': 0.5934782608695652, 'f1-score': 0.5543147208121827, 'support': 460}, '7': {'precision': 0.4482758620689655, 'recall': 0.2988505747126437, 'f1-score': 0.3586206896551724, 'support': 174}, '8': {'precision': 0.0, 'recall': 0.0, 'f1-score': 0.0, 'support': 25}, '9': {'precision': 0.0, 'recall': 0.0, 'f1-score': 0.0, 'support': 1}, 'accuracy': 0.5090218423551757, 'macro avg': {'precision': 0.22298736014052772, 'recall': 0.21914839628506347, 'f1-score': 0.2173187517916169, 'support': 1053}, 'weighted avg': {'precision': 0.47774060086721587, 'recall': 0.5090218423551757, 'f1-score': 0.4887103114723653, 'support': 1053}}\n"
     ]
    }
   ],
   "source": [
    "print(metrics)"
   ],
   "metadata": {
    "collapsed": false,
    "ExecuteTime": {
     "end_time": "2023-11-16T09:35:29.639264Z",
     "start_time": "2023-11-16T09:35:29.638148Z"
    }
   },
   "id": "5365757aad2dd6a"
  },
  {
   "cell_type": "code",
   "execution_count": 22,
   "outputs": [
    {
     "data": {
      "text/plain": "<Figure size 640x480 with 2 Axes>",
      "image/png": "[encoded data removed]"
     },
     "metadata": {},
     "output_type": "display_data"
    }
   ],
   "source": [
    "# Create the confusion matrix as a figure, we will later store it as a PNG image file\n",
    "df_cm = pd.DataFrame(results, range(3,10), columns=range(3, 10))\n",
    "cm = sns.heatmap(df_cm, annot=True)\n",
    "fig = cm.get_figure()"
   ],
   "metadata": {
    "collapsed": false,
    "ExecuteTime": {
     "end_time": "2023-11-16T09:36:36.952735Z",
     "start_time": "2023-11-16T09:36:36.848776Z"
    }
   },
   "id": "fa89b7b75c8cdb98"
  },
  {
   "cell_type": "code",
   "execution_count": 13,
   "outputs": [
    {
     "name": "stdout",
     "output_type": "stream",
     "text": [
      "Connected. Call `.close()` to terminate connection gracefully.\n"
     ]
    },
    {
     "name": "stderr",
     "output_type": "stream",
     "text": [
      "DeprecationWarning: The `ipykernel.comm.Comm` class has been deprecated. Please use the `comm` module instead.For creating comms, use the function `from comm import create_comm`.\n"
     ]
    },
    {
     "data": {
      "text/plain": "  0%|          | 0/6 [00:00<?, ?it/s]",
      "application/vnd.jupyter.widget-view+json": {
       "version_major": 2,
       "version_minor": 0,
       "model_id": "9daf5345c5d744a1be6a77feb3a57954"
      }
     },
     "metadata": {},
     "output_type": "display_data"
    },
    {
     "name": "stdout",
     "output_type": "stream",
     "text": [
      "Model created, explore it at https://c.app.hopsworks.ai:443/p/209044/models/iris_model/1\n"
     ]
    },
    {
     "data": {
      "text/plain": "Model(name: 'iris_model', version: 1)"
     },
     "execution_count": 13,
     "metadata": {},
     "output_type": "execute_result"
    }
   ],
   "source": [
    "# We will now upload our model to the Hopsworks Model Registry. First get an object for the model registry.\n",
    "mr = project.get_model_registry()\n",
    "\n",
    "# The contents of the 'iris_model' directory will be saved to the model registry. Create the dir, first.\n",
    "model_dir=\"iris_model\"\n",
    "if os.path.isdir(model_dir) == False:\n",
    "    os.mkdir(model_dir)\n",
    "\n",
    "# Save both our model and the confusion matrix to 'model_dir', whose contents will be uploaded to the model registry\n",
    "joblib.dump(model, model_dir + \"/iris_model.pkl\")\n",
    "fig.savefig(model_dir + \"/confusion_matrix.png\")    \n",
    "\n",
    "# Specify the schema of the model's input/output using the features (X_train) and labels (y_train)\n",
    "input_schema = Schema(X_train)\n",
    "output_schema = Schema(y_train)\n",
    "model_schema = ModelSchema(input_schema, output_schema)\n",
    "\n",
    "# Create an entry in the model registry that includes the model's name, desc, metrics\n",
    "iris_model = mr.python.create_model(\n",
    "    name=\"iris_model\", \n",
    "    metrics={\"accuracy\" : metrics['accuracy']},\n",
    "    model_schema=model_schema,\n",
    "    description=\"Iris Flower Predictor\"\n",
    ")\n",
    "\n",
    "# Upload the model to the model registry, including all files in 'model_dir'\n",
    "iris_model.save(model_dir)"
   ],
   "metadata": {
    "collapsed": false,
    "ExecuteTime": {
     "end_time": "2023-11-14T15:12:49.067528Z",
     "start_time": "2023-11-14T15:12:27.730237Z"
    }
   },
   "id": "7e3e26e9cfd4b5b4"
  },
  {
   "cell_type": "code",
   "execution_count": null,
   "outputs": [],
   "source": [],
   "metadata": {
    "collapsed": false
   },
   "id": "a92886122b122f36"
  }
 ],
 "metadata": {
  "kernelspec": {
   "display_name": "Python 3",
   "language": "python",
   "name": "python3"
  },
  "language_info": {
   "codemirror_mode": {
    "name": "ipython",
    "version": 2
   },
   "file_extension": ".py",
   "mimetype": "text/x-python",
   "name": "python",
   "nbconvert_exporter": "python",
   "pygments_lexer": "ipython2",
   "version": "2.7.6"
  }
 },
 "nbformat": 4,
 "nbformat_minor": 5
}
